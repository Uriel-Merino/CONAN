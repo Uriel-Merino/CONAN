{
 "cells": [
  {
   "cell_type": "code",
   "execution_count": 1,
   "metadata": {},
   "outputs": [],
   "source": [
    "from glob import glob\n",
    "from os.path import basename\n",
    "\n",
    "import numpy as np\n",
    "import CONAN3"
   ]
  },
  {
   "cell_type": "code",
   "execution_count": 2,
   "metadata": {},
   "outputs": [],
   "source": [
    "from Planet_tools import ring\n",
    "import Planet_tools as pt\n",
    "from astropy.constants import M_jup, R_earth, R_jup, au, M_earth, G, M_sun\n",
    "from astropy.units import M_jupiter, Mearth, g, cm, yr, day, Rearth"
   ]
  },
  {
   "cell_type": "code",
   "execution_count": 3,
   "metadata": {},
   "outputs": [
    {
     "data": {
      "text/plain": [
       "1.2552434817881721"
      ]
     },
     "execution_count": 3,
     "metadata": {},
     "output_type": "execute_result"
    }
   ],
   "source": [
    "14.07*Rearth.to(R_jup)"
   ]
  },
  {
   "cell_type": "code",
   "execution_count": 4,
   "metadata": {},
   "outputs": [
    {
     "data": {
      "text/plain": [
       "1.931851881231082"
      ]
     },
     "execution_count": 4,
     "metadata": {},
     "output_type": "execute_result"
    }
   ],
   "source": [
    "2.6*M_jupiter.to(M_earth)/13.3**3 * 5.5"
   ]
  },
  {
   "cell_type": "code",
   "execution_count": 5,
   "metadata": {},
   "outputs": [
    {
     "data": {
      "text/plain": [
       "0.0053695925660774526"
      ]
     },
     "execution_count": 5,
     "metadata": {},
     "output_type": "execute_result"
    }
   ],
   "source": [
    "4.5*M_jupiter.to(M_sun)/0.8"
   ]
  },
  {
   "cell_type": "code",
   "execution_count": 6,
   "metadata": {},
   "outputs": [
    {
     "data": {
      "text/plain": [
       "1.261159062272843"
      ]
     },
     "execution_count": 6,
     "metadata": {},
     "output_type": "execute_result"
    }
   ],
   "source": [
    "ring.RL_Rroche(0.0034,0.000947,67.463,1.255,3)*(1-0.15)**(3/10)"
   ]
  },
  {
   "cell_type": "code",
   "execution_count": 7,
   "metadata": {},
   "outputs": [
    {
     "name": "stdout",
     "output_type": "stream",
     "text": [
      "Any ring around this planet must have density below 76.96545911999999 in order to be within the Roche limit. Check ```T_eq``` of this planet to ensure that ring of such density can exist.\n"
     ]
    },
    {
     "data": {
      "text/plain": [
       "76.96545911999999"
      ]
     },
     "execution_count": 7,
     "metadata": {},
     "output_type": "execute_result"
    }
   ],
   "source": [
    "ring.max_ring_density(5.17)"
   ]
  },
  {
   "cell_type": "code",
   "execution_count": 8,
   "metadata": {},
   "outputs": [],
   "source": [
    "def R_hill2(rho_p, P,e=0):\n",
    "    \"\"\"\n",
    "    compute hill radius of a planet from its density rho_p in g/cm3 and period in days.\n",
    "    \n",
    "    Returns\n",
    "    --------\n",
    "\n",
    "    R-hill: array-like;\n",
    "        radius of hill sphere in unit of planetary radius\n",
    "    \"\"\"\n",
    "    G = 498.23383\n",
    "    return (1-e)*(G*rho_p*P**2/(9*np.pi))**(1/3)\n",
    "    "
   ]
  },
  {
   "cell_type": "code",
   "execution_count": 9,
   "metadata": {},
   "outputs": [
    {
     "name": "stdout",
     "output_type": "stream",
     "text": [
      "['w12_lc01.dat', 'w12_lc02.dat', 'w12_lc03.dat', 'w12_lc04.dat', 'w12_lc05.dat', 'w12_lc06.dat', 'w12_lc07.dat', 'w12_lc08.dat', 'w12_lc09.dat', 'w12_lc10.dat', 'w12_lc11.dat', 'w12_lc12.dat']\n",
      "[]\n"
     ]
    }
   ],
   "source": [
    "path = \"/home/tunde/Dropbox/postdoc/work/wasp-12/conan_fit/lcs/\"\n",
    "lcs = sorted(glob(f\"{path}w12*\"))\n",
    "lc_list = [basename(lc) for lc in lcs]\n",
    "\n",
    "rvs= sorted(glob(f\"{path}rv*\"))\n",
    "rv_list = [basename(rv) for rv in rvs]\n",
    "\n",
    "print(lc_list)\n",
    "print(rv_list)"
   ]
  },
  {
   "cell_type": "code",
   "execution_count": 10,
   "metadata": {},
   "outputs": [],
   "source": [
    "file_list = lc_list[0]"
   ]
  },
  {
   "cell_type": "markdown",
   "metadata": {},
   "source": [
    "##### ------------------------------------"
   ]
  },
  {
   "cell_type": "code",
   "execution_count": 11,
   "metadata": {},
   "outputs": [
    {
     "name": "stdout",
     "output_type": "stream",
     "text": [
      "Filters: ['CH']\n",
      "Order of unique filters: ['CH']\n"
     ]
    },
    {
     "data": {
      "text/plain": [
       "Object containing 1 lightcurves\n",
       "Files:['w12_lc01.dat']\n",
       "Filepath: /home/tunde/Dropbox/postdoc/work/wasp-12/conan_fit/lcs/"
      ]
     },
     "execution_count": 11,
     "metadata": {},
     "output_type": "execute_result"
    }
   ],
   "source": [
    "lc_data = CONAN3.load_lightcurves(lc_list[0:1], path, \"CH\")\n",
    "lc_data"
   ]
  },
  {
   "cell_type": "code",
   "execution_count": 12,
   "metadata": {},
   "outputs": [
    {
     "data": {
      "image/png": "[encoded data removed]",
      "text/plain": [
       "<Figure size 576x360 with 1 Axes>"
      ]
     },
     "metadata": {
      "needs_background": "light"
     },
     "output_type": "display_data"
    }
   ],
   "source": [
    "lc_data.plot()"
   ]
  },
  {
   "cell_type": "code",
   "execution_count": 13,
   "metadata": {},
   "outputs": [],
   "source": [
    "#time, flux, err, xshift, yshift, roll, thermfront2, bg, exp"
   ]
  },
  {
   "cell_type": "code",
   "execution_count": 14,
   "metadata": {},
   "outputs": [
    {
     "name": "stdout",
     "output_type": "stream",
     "text": [
      "#---------------------------------------------------\n",
      "# Input lightcurves filters baseline function\n",
      "name           \tfil\t lamda\t time\t roll\t x\t y\t conta\t sky\t sin\t group\t id\t GP\n",
      "w12_lc01.dat   \tCH \t6000.0\t    1\t   0\t 0\t 0\t     0\t   0\t   0\t     0\t  1\t y \n",
      "\n",
      "Next: use method ```add_GP``` to include GPs for the desired lcs\n"
     ]
    }
   ],
   "source": [
    "lc_data.lc_baseline(dt =1, dy=0, verbose=True, gp=\"y\")"
   ]
  },
  {
   "cell_type": "code",
   "execution_count": 15,
   "metadata": {},
   "outputs": [
    {
     "name": "stdout",
     "output_type": "stream",
     "text": [
      "# -------- photometry GP input properties: komplex kernel -> several lines --------------\n",
      "name          para  kernel WN scale   s_step s_pri s_pri_wid s_up s_lo    metric  m_step m_pri  m_pri_wid m_up m_lo\n",
      "w12_lc01.dat  air   mat32  y  1.2e-06 0.0010 -15.2  0.00e+00 -5.0 -25.0   9.9e+02 0.0010   6.9  0.00e+00 15.0 -10.0\n"
     ]
    }
   ],
   "source": [
    "lc_data.add_GP( lc_data._names, pars=\"air\", \n",
    "               scale=1.2e-6,\n",
    "               metric= 989, verbose=True)"
   ]
  },
  {
   "cell_type": "code",
   "execution_count": 16,
   "metadata": {},
   "outputs": [
    {
     "name": "stdout",
     "output_type": "stream",
     "text": [
      "Fit_ddFs  step\t low_lim   up_lim   prior   sig_lo   sig_hi   div_white\n",
      "n         0.001\t -1.0000   1.0000   n       0.00000   0.00000   n  \n",
      "group_ID   RpRs_0   err\t\tdwfile\n",
      "     1\t   0.1280   1.28e-04   dw_001.dat\n"
     ]
    }
   ],
   "source": [
    "lc_data.depth_variation(depth_per_group=0.128, depth_err_per_group=0.000128)"
   ]
  },
  {
   "cell_type": "code",
   "execution_count": 17,
   "metadata": {},
   "outputs": [
    {
     "name": "stdout",
     "output_type": "stream",
     "text": [
      "fitting occultation depth for filters: ['CH']\n",
      "filters\tfit\tstart_val\tstepsize\tlow_lim\tup_lim\tprior\tvalue\tsig_lo\tsig_hi\n",
      "CH     \ty  \t0.00050000\t0.0000100\t-0.001\t1.000\tn    \t0.000\t0.000\t0.000 \n"
     ]
    }
   ],
   "source": [
    "lc_data.setup_occultation(bounds_lo=-500e-6)"
   ]
  },
  {
   "cell_type": "code",
   "execution_count": 18,
   "metadata": {},
   "outputs": [
    {
     "name": "stdout",
     "output_type": "stream",
     "text": [
      "filters priors\tc_1  step1  low_lim1  up_lim1\tc_2  step2 low_lim2 up_lim2\n",
      "CH      n     \t0.000 0.000  0.0000  0.0000\t0.000 0.000  0.0000  0.0000\n"
     ]
    }
   ],
   "source": [
    "lc_data.limb_darkening()"
   ]
  },
  {
   "cell_type": "code",
   "execution_count": 19,
   "metadata": {},
   "outputs": [
    {
     "name": "stdout",
     "output_type": "stream",
     "text": [
      "filters\tcontam\terr\n",
      "CH     \t0.0000\t0.0000\n"
     ]
    }
   ],
   "source": [
    "lc_data.contamination_factors()"
   ]
  },
  {
   "cell_type": "code",
   "execution_count": 20,
   "metadata": {},
   "outputs": [],
   "source": [
    "rv_data= CONAN3.load_rvs(rv_list, path)"
   ]
  },
  {
   "cell_type": "code",
   "execution_count": 21,
   "metadata": {},
   "outputs": [
    {
     "data": {
      "text/plain": [
       "Object containing 0 rvs\n",
       "Files:[]\n",
       "Filepath: /home/tunde/Dropbox/postdoc/work/wasp-12/conan_fit/lcs/"
      ]
     },
     "execution_count": 21,
     "metadata": {},
     "output_type": "execute_result"
    }
   ],
   "source": [
    "rv_data"
   ]
  },
  {
   "cell_type": "code",
   "execution_count": 22,
   "metadata": {
    "scrolled": true
   },
   "outputs": [
    {
     "name": "stdout",
     "output_type": "stream",
     "text": [
      "No data to plot\n"
     ]
    }
   ],
   "source": [
    "rv_data.plot()"
   ]
  },
  {
   "cell_type": "code",
   "execution_count": 23,
   "metadata": {},
   "outputs": [
    {
     "name": "stdout",
     "output_type": "stream",
     "text": [
      "# --------------------------------------------------------------\n",
      "# Input RV curves, baseline function, gamma\n",
      "name            time  bis  fwhm  contrast  gamma_kms  stepsize  prior  value  sig_lo  sig_hi\n"
     ]
    }
   ],
   "source": [
    "rv_data.rv_baseline()"
   ]
  },
  {
   "cell_type": "code",
   "execution_count": 24,
   "metadata": {},
   "outputs": [
    {
     "data": {
      "text/plain": [
       "fit configuration for parameters: ['RpRs' 'Impact_para' 'Duration' 'T_0' 'Period' 'Eccentricity' 'Omega' 'K']"
      ]
     },
     "execution_count": 24,
     "metadata": {},
     "output_type": "execute_result"
    }
   ],
   "source": [
    "fitter = CONAN3.setup_fit()\n",
    "fitter"
   ]
  },
  {
   "cell_type": "code",
   "execution_count": 25,
   "metadata": {},
   "outputs": [
    {
     "name": "stdout",
     "output_type": "stream",
     "text": [
      "name        \tfit\tstart_val\tstepsize\tlow_lim\tup_lim\tprior\tvalue\tsig_lo\tsig_hi\n",
      "RpRs        \tn  \t  0.1246\t0.0000000\t0.04\t1.00\tn\t0.000\t0.000\t0.000 \n",
      "Impact_para \tn  \t  0.3390\t0.0000000\t0.00\t1.00\tn\t0.000\t0.000\t0.000 \n",
      "Duration    \tn  \t  0.1248\t0.0000000\t0.00\t1.00\tn\t0.000\t0.000\t0.000 \n",
      "T_0         \ty  \t6305.4555\t0.0010000\t0.00\t10000.00\tn\t0.000\t0.000\t0.000 \n",
      "Period      \tn  \t  1.0914\t0.0000000\t1.20\t100.00\tn\t0.000\t0.000\t0.000 \n",
      "Eccentricity\tn  \t  0.0000\t0.0000000\t0.00\t1.00\tn\t0.000\t0.000\t0.000 \n",
      "Omega       \tn  \t 90.0000\t0.0000000\t36.00\t360.00\tn\t0.000\t0.000\t0.000 \n",
      "K           \tn  \t  0.0000\t0.0000000\t0.00\t50000.00\tn\t0.000\t0.000\t0.000 \n"
     ]
    }
   ],
   "source": [
    "fitter.configure_parameters(['n','n','n','y','n','n','n','n'],\n",
    "                           [0.1246,0.339,0.12483,6305.455510,1.091419426,0,90,0],\n",
    "                       bounds_hi=[1,1,1,10000,100,1,360,50000])"
   ]
  },
  {
   "cell_type": "code",
   "execution_count": 26,
   "metadata": {},
   "outputs": [
    {
     "data": {
      "text/plain": [
       "fit configuration for parameters: ['T_0']"
      ]
     },
     "execution_count": 26,
     "metadata": {},
     "output_type": "execute_result"
    }
   ],
   "source": [
    "fitter"
   ]
  },
  {
   "cell_type": "code",
   "execution_count": 27,
   "metadata": {},
   "outputs": [
    {
     "name": "stdout",
     "output_type": "stream",
     "text": [
      "#=========== Stellar input properties ================================================================\n",
      "# parameter    value  sig_lo  sig_hi\n",
      "Radius_[Rsun]  1.000  0.010  0.010\n",
      "Mass_[Msun]    1.000  0.010  0.010\n",
      "Stellar_para_input_method:_R+rho_(Rrho),_M+rho_(Mrho),_M+R_(MR): MR\n"
     ]
    }
   ],
   "source": [
    "fitter.stellar_parameters()"
   ]
  },
  {
   "cell_type": "code",
   "execution_count": 28,
   "metadata": {},
   "outputs": [
    {
     "name": "stdout",
     "output_type": "stream",
     "text": [
      "#=========== MCMC setup ==============================================================================\n",
      "Total_no_steps           128000\n",
      "Number_chains            64\n",
      "Number_of_processes      2\n",
      "Burnin_length            500\n",
      "Walk_(snooker/demc/mrw)  demc\n",
      "GR_test_(y/n)            y\n",
      "Make_plots_(y/n)         n\n",
      "leastsq_(y/n)            y\n",
      "Savefile                 output_ex1.npy\n",
      "Savemodel                n\n",
      "Adapt_base_stepsize      y\n",
      "Remove_param_for_CNM     n\n",
      "leastsq_for_basepar      n\n",
      "lssq_use_Lev-Marq        n\n",
      "apply_CFs                y\n",
      "apply_jitter             y\n"
     ]
    }
   ],
   "source": [
    "fitter.mcmc_setup()"
   ]
  },
  {
   "cell_type": "code",
   "execution_count": 29,
   "metadata": {},
   "outputs": [],
   "source": [
    "CONAN3.create_configfile(lc_data, rv_data, fitter)"
   ]
  },
  {
   "cell_type": "code",
   "execution_count": 35,
   "metadata": {},
   "outputs": [],
   "source": [
    "lc_data._"
   ]
  },
  {
   "cell_type": "code",
   "execution_count": 38,
   "metadata": {},
   "outputs": [
    {
     "data": {
      "text/plain": [
       "{'to_fit': ['n', 'n', 'n', 'y', 'n', 'n', 'n', 'n'],\n",
       " 'start_value': [0.1246, 0.339, 0.12483, 6305.45551, 1.091419426, 0, 90, 0],\n",
       " 'step_size': [0.0, 0.0, 0.0, 0.001, 0.0, 0.0, 0.0, 0.0],\n",
       " 'prior': ['n', 'n', 'n', 'n', 'n', 'n', 'n', 'n'],\n",
       " 'prior_mean': [0.0, 0.0, 0.0, 0.0, 0.0, 0.0, 0.0, 0.0],\n",
       " 'prior_width_lo': [0, 0, 0, 0, 0, 0, 0, 0],\n",
       " 'prior_width_hi': [0, 0, 0, 0, 0, 0, 0, 0],\n",
       " 'bounds_lo': [0.04000000000000001,\n",
       "  0.0,\n",
       "  0.0,\n",
       "  0.0,\n",
       "  1.2000000000000002,\n",
       "  0.0,\n",
       "  36.0,\n",
       "  0.0],\n",
       " 'bounds_hi': [1, 1, 1, 10000, 100, 1, 360, 50000]}"
      ]
     },
     "execution_count": 38,
     "metadata": {},
     "output_type": "execute_result"
    }
   ],
   "source": [
    "fitter._fit_config"
   ]
  },
  {
   "cell_type": "code",
   "execution_count": 41,
   "metadata": {},
   "outputs": [],
   "source": [
    "class Bunch(object):\n",
    "    def __init__(self, adict):\n",
    "        self.__dict__.update(adict)\n",
    "    def __repr__(self):\n",
    "        \n",
    "        "
   ]
  },
  {
   "cell_type": "code",
   "execution_count": 42,
   "metadata": {},
   "outputs": [],
   "source": [
    "fit_con =  Bunch(fitter._fit_config)"
   ]
  },
  {
   "cell_type": "code",
   "execution_count": 49,
   "metadata": {},
   "outputs": [],
   "source": [
    "from types import SimpleNamespace"
   ]
  },
  {
   "cell_type": "code",
   "execution_count": 50,
   "metadata": {},
   "outputs": [
    {
     "ename": "TypeError",
     "evalue": "no positional arguments expected",
     "output_type": "error",
     "traceback": [
      "\u001b[0;31m---------------------------------------------------------------------------\u001b[0m",
      "\u001b[0;31mTypeError\u001b[0m                                 Traceback (most recent call last)",
      "\u001b[0;32m<ipython-input-50-453c134f287f>\u001b[0m in \u001b[0;36m<module>\u001b[0;34m\u001b[0m\n\u001b[0;32m----> 1\u001b[0;31m \u001b[0mSimpleNamespace\u001b[0m\u001b[0;34m(\u001b[0m\u001b[0mfitter\u001b[0m\u001b[0;34m.\u001b[0m\u001b[0m_fit_config\u001b[0m\u001b[0;34m)\u001b[0m\u001b[0;34m\u001b[0m\u001b[0;34m\u001b[0m\u001b[0m\n\u001b[0m",
      "\u001b[0;31mTypeError\u001b[0m: no positional arguments expected"
     ]
    }
   ],
   "source": [
    "SimpleNamespace(fitter._fit_config)"
   ]
  },
  {
   "cell_type": "code",
   "execution_count": 51,
   "metadata": {},
   "outputs": [
    {
     "data": {
      "text/plain": [
       "{'to_fit': ['n', 'n', 'n', 'y', 'n', 'n', 'n', 'n'],\n",
       " 'start_value': [0.1246, 0.339, 0.12483, 6305.45551, 1.091419426, 0, 90, 0],\n",
       " 'step_size': [0.0, 0.0, 0.0, 0.001, 0.0, 0.0, 0.0, 0.0],\n",
       " 'prior': ['n', 'n', 'n', 'n', 'n', 'n', 'n', 'n'],\n",
       " 'prior_mean': [0.0, 0.0, 0.0, 0.0, 0.0, 0.0, 0.0, 0.0],\n",
       " 'prior_width_lo': [0, 0, 0, 0, 0, 0, 0, 0],\n",
       " 'prior_width_hi': [0, 0, 0, 0, 0, 0, 0, 0],\n",
       " 'bounds_lo': [0.04000000000000001,\n",
       "  0.0,\n",
       "  0.0,\n",
       "  0.0,\n",
       "  1.2000000000000002,\n",
       "  0.0,\n",
       "  36.0,\n",
       "  0.0],\n",
       " 'bounds_hi': [1, 1, 1, 10000, 100, 1, 360, 50000]}"
      ]
     },
     "execution_count": 51,
     "metadata": {},
     "output_type": "execute_result"
    }
   ],
   "source": [
    "fitter._fit_config"
   ]
  },
  {
   "cell_type": "markdown",
   "metadata": {},
   "source": [
    "lc_data._contfact_dict"
   ]
  },
  {
   "cell_type": "code",
   "execution_count": 30,
   "metadata": {
    "scrolled": false
   },
   "outputs": [
    {
     "name": "stdout",
     "output_type": "stream",
     "text": [
      "Limb-darkening law: quadratic\n",
      "(array([0]),)\n",
      "[0. 0. 0. 0. 0. 0. 0. 0. 0. 0. 0. 0. 0. 0. 0. 0. 0. 0. 0. 0. 0. 0. 0. 0.\n",
      " 0. 0. 0. 0. 0. 0. 0. 0. 0. 0. 0. 0. 0. 0. 0. 0. 0. 0. 0. 0. 0. 0. 0. 0.\n",
      " 0. 0. 0. 0. 0. 0. 0. 0. 0. 0. 0. 0. 0. 0. 0. 0. 0. 0. 0. 0. 0. 0. 0. 0.\n",
      " 0. 0. 0. 0. 0. 0. 0. 0. 0. 0. 0. 0. 0. 0. 0. 0. 0. 0. 0. 0. 0. 0. 0. 0.\n",
      " 0. 0. 0. 0. 0. 0. 0. 0. 0. 0. 0. 0. 0. 0. 0. 0. 0. 0. 0. 0. 0. 0. 0. 0.\n",
      " 0. 0. 0. 0. 0. 0. 0. 0. 0. 0. 0. 0. 0. 0. 0. 0. 0. 0. 0. 0. 0. 0. 0. 0.\n",
      " 0. 0. 0. 0. 0. 0. 0. 0. 0. 0. 0. 0. 0. 0. 0. 0. 0. 0. 0. 0. 0. 0. 0. 0.\n",
      " 0. 0. 0. 0. 0. 0. 0. 0. 0. 0. 0. 0. 0. 0. 0. 0. 0. 0. 0. 0. 0. 0. 0. 0.\n",
      " 0. 0. 0. 0. 0. 0. 0. 0. 0. 0. 0. 0. 0. 0. 0.] (array([  0,   1,   2,   3,   4,   5,   6,   7,   8,   9,  10,  11,  12,\n",
      "        13,  14,  15,  16,  17,  18,  19,  20,  21,  22,  23,  24,  25,\n",
      "        26,  27,  28,  29,  30,  31,  32,  33,  34,  35,  36,  37,  38,\n",
      "        39,  40,  41,  42,  43,  44,  45,  46,  47,  48,  49,  50,  51,\n",
      "        52,  53,  54,  55,  56,  57,  58,  59,  60,  61,  62,  63,  64,\n",
      "        65,  66,  67,  68,  69,  70,  71,  72,  73,  74,  75,  76,  77,\n",
      "        78,  79,  80,  81,  82,  83,  84,  85,  86,  87,  88,  89,  90,\n",
      "        91,  92,  93,  94,  95,  96,  97,  98,  99, 100, 101, 102, 103,\n",
      "       104, 105, 106, 107, 108, 109, 110, 111, 112, 113, 114, 115, 116,\n",
      "       117, 118, 119, 120, 121, 122, 123, 124, 125, 126, 127, 128, 129,\n",
      "       130, 131, 132, 133, 134, 135, 136, 137, 138, 139, 140, 141, 142,\n",
      "       143, 144, 145, 146, 147, 148, 149, 150, 151, 152, 153, 154, 155,\n",
      "       156, 157, 158, 159, 160, 161, 162, 163, 164, 165, 166, 167, 168,\n",
      "       169, 170, 171, 172, 173, 174, 175, 176, 177, 178, 179, 180, 181,\n",
      "       182, 183, 184, 185, 186, 187, 188, 189, 190, 191, 192, 193, 194,\n",
      "       195, 196, 197, 198, 199, 200, 201, 202, 203, 204, 205, 206]),)\n",
      "mat32\n",
      "mean:RpRs\n",
      "mean:b\n",
      "mean:dur\n",
      "mean:per\n",
      "mean:eos\n",
      "mean:eoc\n",
      "T_0 6305.45551 0.001 0.0 10000.0 0.0 0.0\n",
      "RpRs 0.1246 0.0 0.04000000000000001 1.0 0.0 0.0\n",
      "b 0.339 0.0 0.0 1.0 0.0 0.0\n",
      "dur_[d] 0.12483 0.0 0.0 1.0 0.0 0.0\n",
      "Period_[d] 1.091419426 0.0 1.2000000000000002 100.0 0.0 0.0\n",
      "esin(w) 0.0 0.0 0.0 1.0 0.0 0.0\n",
      "ecos(w) 0.0 0.0 0.0 1.0 0.0 0.0\n",
      "K 0.0 0.0 0.0 50.0 0.0 0.0\n",
      "CH_DFocc 0.0005 1e-05 -0.0005 -0.0005 0.0 0.0\n",
      "CH_c1 0.0 0.00022360679774997898 -3.0 3.0 0.0 0.0\n",
      "CH_c2 0.0 0.0001414213562373095 -3.0 3.0 0.0 0.0\n",
      "CH_c3 0.0 0.0 -3.0 3.0 0.0 0.0\n",
      "CH_c4 0.0 0.0 -3.0 3.0 0.0 0.0\n",
      "w12_lc01.dat_A0 1.0 0.0001 0.0 2.1 0.0 0.0\n",
      "w12_lc01.dat_A1 0.0 0.001 -10000000.0 10000000.0 0.0 0.0\n",
      "w12_lc01.dat_A2 0.0 0.0 0.0 0.0 0.0 0.0\n",
      "w12_lc01.dat_A3 0.0 0.0 0.0 0.0 0.0 0.0\n",
      "w12_lc01.dat_A4 0.0 0.0 0.0 0.0 0.0 0.0\n",
      "w12_lc01.dat_B1 0.0 0.0 0.0 0.0 0.0 0.0\n",
      "w12_lc01.dat_B2 0.0 0.0 0.0 0.0 0.0 0.0\n",
      "w12_lc01.dat_C11 0.0 0.0 0.0 0.0 0.0 0.0\n",
      "w12_lc01.dat_C12 0.0 0.0 0.0 0.0 0.0 0.0\n",
      "w12_lc01.dat_C21 0.0 0.0 0.0 0.0 0.0 0.0\n",
      "w12_lc01.dat_C22 0.0 0.0 0.0 0.0 0.0 0.0\n",
      "w12_lc01.dat_D1 0.0 0.0 0.0 0.0 0.0 0.0\n",
      "w12_lc01.dat_D2 0.0 0.0 0.0 0.0 0.0 0.0\n",
      "w12_lc01.dat_E1 0.0 0.0 0.0 0.0 0.0 0.0\n",
      "w12_lc01.dat_E2 0.0 0.0 0.0 0.0 0.0 0.0\n",
      "w12_lc01.dat_G1 0.0 0.0 0.0 0.0 0.0 0.0\n",
      "w12_lc01.dat_G2 0.0 0.0 0.0 0.0 0.0 0.0\n",
      "w12_lc01.dat_G3 0.0 0.0 0.0 0.0 0.0 0.0\n",
      "w12_lc01.dat_H1 0.0 0.0 0.0 0.0 0.0 0.0\n",
      "w12_lc01.dat_H2 0.0 0.0 0.0 0.0 0.0 0.0\n",
      "[0 8]\n",
      "1\n",
      "207\n",
      "ping\n",
      "207\n",
      "207\n",
      "207\n",
      "207\n",
      "[ 6.30545551e+03  5.00000000e-04  0.00000000e+00  0.00000000e+00\n",
      "  1.00000000e+00  0.00000000e+00 -1.98069751e+01 -1.36331890e+01\n",
      "  6.89669433e+00]\n",
      "[array([9155.534928, 9155.535623, 9155.536318, 9155.537013, 9155.537708,\n",
      "       9155.538402, 9155.540487, 9155.541182, 9155.541877, 9155.542571,\n",
      "       9155.543266, 9155.544656, 9155.545351, 9155.546045, 9155.54674 ,\n",
      "       9155.547435, 9155.54813 , 9155.548825, 9155.54952 , 9155.550214,\n",
      "       9155.550909, 9155.552299, 9155.552994, 9155.553689, 9155.554383,\n",
      "       9155.555078, 9155.555773, 9155.556468, 9155.557857, 9155.558552,\n",
      "       9155.559247, 9155.560637, 9155.593293, 9155.593988, 9155.594683,\n",
      "       9155.595378, 9155.596768, 9155.597462, 9155.598157, 9155.598852,\n",
      "       9155.599547, 9155.600242, 9155.600937, 9155.601631, 9155.602326,\n",
      "       9155.603021, 9155.603716, 9155.604411, 9155.605105, 9155.6058  ,\n",
      "       9155.606495, 9155.60719 , 9155.607885, 9155.60858 , 9155.609274,\n",
      "       9155.609969, 9155.610664, 9155.611359, 9155.612054, 9155.612749,\n",
      "       9155.613443, 9155.614138, 9155.614833, 9155.615528, 9155.616223,\n",
      "       9155.616917, 9155.617612, 9155.618307, 9155.619002, 9155.619697,\n",
      "       9155.620392, 9155.621086, 9155.621781, 9155.622476, 9155.623171,\n",
      "       9155.623866, 9155.624561, 9155.625255, 9155.62595 , 9155.626645,\n",
      "       9155.62734 , 9155.628035, 9155.628729, 9155.629424, 9155.630119,\n",
      "       9155.662081, 9155.662776, 9155.663471, 9155.664165, 9155.665555,\n",
      "       9155.66625 , 9155.666945, 9155.66764 , 9155.668334, 9155.669029,\n",
      "       9155.669724, 9155.670419, 9155.671114, 9155.671809, 9155.672503,\n",
      "       9155.673198, 9155.673893, 9155.674588, 9155.675283, 9155.675977,\n",
      "       9155.676672, 9155.677367, 9155.678062, 9155.679452, 9155.680146,\n",
      "       9155.680841, 9155.681536, 9155.682231, 9155.683621, 9155.684315,\n",
      "       9155.68501 , 9155.685705, 9155.6864  , 9155.687095, 9155.687789,\n",
      "       9155.688484, 9155.689179, 9155.689874, 9155.690569, 9155.691264,\n",
      "       9155.691958, 9155.692653, 9155.693348, 9155.694043, 9155.694738,\n",
      "       9155.695433, 9155.696127, 9155.696822, 9155.697517, 9155.730869,\n",
      "       9155.731563, 9155.737122, 9155.737817, 9155.738512, 9155.739206,\n",
      "       9155.739901, 9155.740596, 9155.741291, 9155.741986, 9155.74268 ,\n",
      "       9155.743375, 9155.74407 , 9155.744765, 9155.74546 , 9155.746155,\n",
      "       9155.746849, 9155.747544, 9155.748934, 9155.749629, 9155.750324,\n",
      "       9155.751018, 9155.751713, 9155.752408, 9155.753103, 9155.753798,\n",
      "       9155.754492, 9155.755187, 9155.755882, 9155.756577, 9155.757272,\n",
      "       9155.757967, 9155.760051, 9155.760746, 9155.761441, 9155.762136,\n",
      "       9155.76283 , 9155.763525, 9155.76422 , 9155.764915, 9155.76561 ,\n",
      "       9155.766304, 9155.766999, 9155.810078, 9155.810773, 9155.811468,\n",
      "       9155.812163, 9155.812858, 9155.813552, 9155.814247, 9155.814942,\n",
      "       9155.815637, 9155.816332, 9155.817027, 9155.817721, 9155.818416,\n",
      "       9155.819111, 9155.820501, 9155.821196, 9155.82189 , 9155.82328 ,\n",
      "       9155.823975, 9155.82467 , 9155.825364, 9155.826059, 9155.826754,\n",
      "       9155.827449, 9155.828144, 9155.828839, 9155.829533, 9155.830228,\n",
      "       9155.830923, 9155.831618]), array([1.000552, 1.000508, 0.998906, 0.998563, 1.000325, 0.999671,\n",
      "       1.000764, 0.999703, 0.99977 , 0.999328, 1.000952, 1.000838,\n",
      "       1.000804, 1.000793, 1.000321, 1.000809, 1.000689, 1.000516,\n",
      "       1.      , 0.999622, 1.000962, 1.001149, 1.000106, 1.000747,\n",
      "       1.00063 , 1.000999, 1.000966, 1.001399, 1.002554, 1.002042,\n",
      "       1.00172 , 1.002018, 1.000516, 0.999709, 1.000655, 1.000795,\n",
      "       0.99968 , 0.99947 , 0.999976, 0.999529, 1.000182, 0.998917,\n",
      "       0.99881 , 0.998649, 0.999055, 0.998484, 0.998833, 1.000347,\n",
      "       0.999064, 0.998442, 0.998019, 0.999882, 0.999684, 0.99828 ,\n",
      "       0.99955 , 1.000059, 0.999972, 0.998767, 0.99834 , 0.99949 ,\n",
      "       1.001105, 0.99947 , 1.000652, 1.000793, 1.000588, 1.00021 ,\n",
      "       1.001521, 1.001246, 0.99999 , 1.000418, 1.00123 , 1.000647,\n",
      "       1.000221, 0.999368, 0.999962, 1.001376, 0.999826, 1.000332,\n",
      "       1.000662, 1.0004  , 1.000493, 1.001172, 1.001061, 1.001625,\n",
      "       1.0024  , 1.002344, 1.00117 , 1.000862, 0.998711, 1.000063,\n",
      "       0.998285, 0.999898, 1.000299, 0.998609, 1.000528, 0.9979  ,\n",
      "       0.999455, 0.998676, 0.999052, 0.998151, 0.999371, 0.998608,\n",
      "       0.9987  , 0.997562, 0.999391, 0.997634, 0.999547, 0.99792 ,\n",
      "       0.998566, 0.998435, 0.99822 , 0.999037, 0.999144, 0.999499,\n",
      "       0.999136, 0.998942, 1.000891, 0.99936 , 1.000559, 0.999678,\n",
      "       1.000511, 1.000089, 0.99943 , 1.000577, 0.999559, 0.999627,\n",
      "       0.999515, 1.000832, 1.000621, 1.001696, 1.000188, 1.001086,\n",
      "       1.000155, 0.999357, 1.000463, 1.000471, 0.997652, 0.99983 ,\n",
      "       0.998012, 0.999385, 0.997823, 0.997073, 0.999124, 0.997918,\n",
      "       0.997823, 0.99786 , 0.998016, 0.999268, 0.99848 , 1.000019,\n",
      "       1.000017, 0.999667, 0.999517, 1.000474, 1.000038, 0.998796,\n",
      "       0.999556, 1.001247, 1.000466, 0.99942 , 0.99963 , 1.00031 ,\n",
      "       0.999389, 0.999443, 1.000002, 1.000798, 1.000557, 1.001503,\n",
      "       1.000532, 0.99982 , 1.000904, 1.000951, 1.000731, 1.001349,\n",
      "       1.001999, 1.001687, 1.002448, 0.999755, 0.999147, 1.000544,\n",
      "       0.999349, 0.999256, 0.998842, 0.99809 , 0.999436, 0.99989 ,\n",
      "       0.999791, 0.999308, 0.99946 , 0.99944 , 1.002124, 1.000899,\n",
      "       1.000978, 1.00042 , 1.001079, 1.000685, 0.999284, 1.000547,\n",
      "       1.002174, 1.000185, 0.99973 , 1.001121, 1.000941, 1.000777,\n",
      "       1.001063, 1.001202, 0.999911]), array([2.270966, 1.979858, 1.95163 , 1.777771, 1.901917, 1.858063,\n",
      "       1.558929, 2.096863, 1.930511, 1.989777, 1.707672, 1.682892,\n",
      "       1.402344, 1.503937, 1.595062, 1.568817, 1.466034, 1.525696,\n",
      "       1.757324, 1.551208, 1.519714, 1.298706, 1.093628, 0.701569,\n",
      "       1.050354, 1.043762, 1.102356, 1.193329, 1.014404, 1.27533 ,\n",
      "       1.40448 , 1.073242, 2.003021, 1.499695, 2.142426, 2.346039,\n",
      "       2.293365, 2.334625, 2.199493, 2.258026, 1.914612, 1.714569,\n",
      "       1.77536 , 1.605865, 1.766418, 2.117493, 2.444885, 2.025421,\n",
      "       2.060181, 1.895813, 2.112335, 1.767487, 2.122833, 1.894226,\n",
      "       1.668762, 2.287903, 2.015167, 2.112915, 1.712585, 1.786957,\n",
      "       1.790894, 1.447754, 1.45874 , 1.665527, 1.558014, 1.497559,\n",
      "       1.642548, 1.648041, 1.647827, 1.412872, 1.016174, 1.24881 ,\n",
      "       0.802368, 0.884644, 1.106873, 0.964905, 1.067566, 1.216553,\n",
      "       0.808899, 1.021332, 1.247192, 1.219757, 1.042236, 1.001984,\n",
      "       0.656677, 1.90448 , 1.549438, 2.080383, 2.231659, 2.076721,\n",
      "       2.312805, 2.255371, 2.049683, 1.891998, 1.692902, 1.617493,\n",
      "       1.399445, 1.865784, 2.024017, 2.250519, 1.884308, 2.088776,\n",
      "       1.699463, 2.012787, 1.894165, 2.154358, 1.788208, 1.662933,\n",
      "       1.97699 , 1.954895, 1.744781, 1.66333 , 1.578857, 1.332458,\n",
      "       1.720093, 1.340637, 1.613312, 1.663696, 1.560699, 1.646454,\n",
      "       1.2547  , 1.013397, 1.236237, 0.648712, 0.804443, 1.235107,\n",
      "       0.921295, 1.007996, 1.211182, 0.685364, 1.224457, 1.329102,\n",
      "       1.148926, 1.13858 , 1.625885, 1.626648, 1.779175, 1.780212,\n",
      "       1.65741 , 1.353333, 2.11377 , 1.920105, 2.141205, 2.04126 ,\n",
      "       1.900391, 1.712677, 1.883362, 1.825928, 2.13559 , 1.681915,\n",
      "       1.749146, 2.203979, 1.711548, 1.724762, 1.682251, 1.468323,\n",
      "       1.520203, 1.40741 , 1.843658, 1.16156 , 1.576172, 1.805908,\n",
      "       1.596893, 1.668945, 1.176178, 1.090271, 0.782043, 1.341583,\n",
      "       0.940674, 1.111511, 1.159241, 0.632721, 1.321198, 1.406586,\n",
      "       1.156494, 1.21283 , 0.802551, 2.024719, 2.055786, 2.066193,\n",
      "       1.773712, 1.853119, 2.038208, 2.116516, 1.655762, 1.910492,\n",
      "       2.103271, 2.124359, 1.918976, 1.742249, 1.71994 , 1.669556,\n",
      "       1.514893, 1.878082, 1.762238, 1.872375, 1.668915, 1.592957,\n",
      "       1.197327, 1.182159, 1.242584, 0.626709, 0.89325 , 1.374237,\n",
      "       0.98877 , 1.274719, 1.102722]), array([-0.960815, -1.034485, -0.674744, -1.05719 , -0.684692, -0.983643,\n",
      "       -0.719971, -0.777649, -1.159485, -1.016052, -0.80542 , -0.929199,\n",
      "       -1.223511, -0.932251, -0.812378, -1.049438, -1.343262, -1.268311,\n",
      "       -0.940735, -0.818054, -0.87616 , -0.729553, -0.882202, -0.769775,\n",
      "       -1.085022, -0.842285, -1.019653, -1.250854, -0.953979, -0.947205,\n",
      "       -0.864868, -0.944824, -1.34198 , -1.482605, -1.450684, -1.844788,\n",
      "       -1.770935, -1.476624, -1.796631, -1.552429, -1.967957, -1.972473,\n",
      "       -1.185974, -1.436829, -1.875977, -1.944885, -1.595093, -1.671997,\n",
      "       -1.396484, -1.610291, -1.418091, -1.703857, -1.524231, -1.653259,\n",
      "       -1.317627, -1.443787, -1.762146, -1.625488, -1.337769, -1.351135,\n",
      "       -1.611267, -1.739014, -1.605164, -1.291626, -1.790833, -1.841431,\n",
      "       -1.728333, -1.507141, -1.371094, -1.467773, -1.662231, -1.164246,\n",
      "       -1.51416 , -1.181458, -1.919983, -1.382874, -1.499146, -1.795715,\n",
      "       -1.873352, -1.452393, -1.541321, -1.426453, -1.008789, -1.481018,\n",
      "       -2.064941, -1.561096, -1.728943, -1.896362, -2.127625, -1.92395 ,\n",
      "       -1.72229 , -1.916443, -1.863464, -2.305847, -1.871155, -1.425171,\n",
      "       -1.898438, -2.06366 , -2.231995, -1.82251 , -1.720093, -1.606812,\n",
      "       -1.897095, -1.668335, -1.880005, -1.67804 , -1.920593, -1.690979,\n",
      "       -1.956543, -1.800354, -1.65564 , -1.519592, -1.834534, -1.735474,\n",
      "       -1.593384, -2.070007, -2.13678 , -1.870911, -1.772705, -1.444092,\n",
      "       -1.789551, -1.735779, -1.422974, -1.9953  , -1.396118, -2.083679,\n",
      "       -1.589905, -1.902527, -1.990601, -2.117676, -1.786804, -1.714844,\n",
      "       -1.573303, -1.299255, -1.997437, -1.903992, -2.653259, -1.884644,\n",
      "       -1.623535, -2.23761 , -2.286804, -2.557312, -2.079651, -1.899414,\n",
      "       -1.982849, -1.945679, -1.969666, -2.06073 , -2.039551, -2.067932,\n",
      "       -1.908142, -2.11499 , -1.968567, -1.866394, -1.792725, -2.253418,\n",
      "       -2.116455, -1.952393, -1.832886, -2.392761, -2.315186, -2.169373,\n",
      "       -2.091675, -1.81189 , -2.214966, -1.928772, -1.703186, -2.367493,\n",
      "       -1.879578, -2.192139, -2.26825 , -2.466553, -2.126526, -1.916199,\n",
      "       -1.811401, -1.622925, -2.365662, -2.276123, -1.964478, -2.30603 ,\n",
      "       -2.143616, -2.144775, -1.988037, -2.176208, -2.135376, -2.016357,\n",
      "       -2.152466, -2.318054, -2.007629, -2.133911, -1.95636 , -2.226196,\n",
      "       -2.065063, -1.831116, -2.19574 , -2.161316, -2.329407, -2.016724,\n",
      "       -2.386475, -1.948608, -1.941589, -2.430298, -1.905701, -2.301697,\n",
      "       -1.839905, -2.207886, -2.363281]), array([0.011077, 0.011119, 0.010982, 0.010864, 0.010833, 0.011165,\n",
      "       0.011427, 0.011447, 0.011519, 0.011369, 0.010928, 0.011154,\n",
      "       0.011372, 0.010898, 0.011111, 0.011293, 0.011536, 0.011296,\n",
      "       0.011319, 0.011314, 0.011209, 0.011703, 0.011548, 0.011418,\n",
      "       0.011551, 0.011438, 0.01143 , 0.011419, 0.011512, 0.011531,\n",
      "       0.01184 , 0.011614, 0.01151 , 0.011412, 0.011275, 0.010952,\n",
      "       0.011187, 0.01134 , 0.011088, 0.01096 , 0.010999, 0.011058,\n",
      "       0.011205, 0.011328, 0.011014, 0.010898, 0.010717, 0.010598,\n",
      "       0.011092, 0.010829, 0.011141, 0.01107 , 0.011264, 0.011177,\n",
      "       0.011342, 0.011567, 0.01142 , 0.011412, 0.011139, 0.011276,\n",
      "       0.011277, 0.011444, 0.011353, 0.011121, 0.011369, 0.011245,\n",
      "       0.011373, 0.011425, 0.011354, 0.011569, 0.011611, 0.011392,\n",
      "       0.011548, 0.011588, 0.011546, 0.011335, 0.011495, 0.011584,\n",
      "       0.011696, 0.011544, 0.011722, 0.01145 , 0.011607, 0.011512,\n",
      "       0.011443, 0.011088, 0.011041, 0.011274, 0.01126 , 0.01118 ,\n",
      "       0.010906, 0.011026, 0.010982, 0.011199, 0.010866, 0.011314,\n",
      "       0.010863, 0.01105 , 0.010886, 0.010936, 0.010535, 0.010811,\n",
      "       0.010895, 0.010778, 0.011071, 0.011261, 0.011684, 0.011268,\n",
      "       0.011102, 0.011464, 0.01108 , 0.011023, 0.011071, 0.011359,\n",
      "       0.011302, 0.011417, 0.011305, 0.011254, 0.011252, 0.011356,\n",
      "       0.01169 , 0.011631, 0.011394, 0.011557, 0.01127 , 0.011515,\n",
      "       0.011611, 0.011629, 0.011713, 0.011601, 0.011594, 0.011717,\n",
      "       0.011731, 0.011642, 0.011492, 0.011303, 0.010814, 0.01091 ,\n",
      "       0.010849, 0.011048, 0.011035, 0.010645, 0.011017, 0.010967,\n",
      "       0.010746, 0.010842, 0.011018, 0.01112 , 0.011227, 0.011475,\n",
      "       0.011617, 0.01135 , 0.011269, 0.011127, 0.011173, 0.011366,\n",
      "       0.010928, 0.011453, 0.011045, 0.011442, 0.011354, 0.011399,\n",
      "       0.011169, 0.011298, 0.011566, 0.011457, 0.011466, 0.01146 ,\n",
      "       0.011416, 0.011402, 0.01153 , 0.011312, 0.011622, 0.011742,\n",
      "       0.011838, 0.011614, 0.011504, 0.011227, 0.01092 , 0.010882,\n",
      "       0.010889, 0.011045, 0.011123, 0.011342, 0.011574, 0.011478,\n",
      "       0.01146 , 0.011227, 0.011287, 0.011044, 0.011336, 0.011028,\n",
      "       0.011083, 0.011278, 0.011537, 0.011416, 0.011241, 0.011225,\n",
      "       0.011463, 0.011491, 0.011534, 0.011358, 0.011636, 0.011476,\n",
      "       0.011518, 0.011459, 0.011422]), array([117.877799, 113.155881, 107.721077, 101.466825,  94.31494 ,\n",
      "        86.259746,  58.560653,  49.374027,  40.840057,  33.16184 ,\n",
      "        26.397122,  15.385611,  10.933913,   7.04088 ,   3.611377,\n",
      "         0.564979,  -2.165551,  -4.635509,  -6.889659,  -8.964991,\n",
      "       -10.89234 , -14.400433, -16.021067, -17.574496, -19.074704,\n",
      "       -20.533664, -21.962942, -23.372887, -26.174525, -27.585444,\n",
      "       -29.016433, -31.981202, 151.753613, 150.305928, 148.822237,\n",
      "       147.290309, 144.028048, 142.266123, 140.390566, 138.378543,\n",
      "       136.188663, 133.803067, 131.177403, 128.259727, 124.988669,\n",
      "       121.290525, 117.07795 , 112.251446, 106.70506 , 100.339616,\n",
      "        93.089904,  84.961996,  76.079195,  66.709622,  57.261711,\n",
      "        48.192237,  39.814426,  32.293437,  25.66654 ,  19.883715,\n",
      "        14.852733,  10.467566,   6.625521,   3.235467,   0.219718,\n",
      "        -2.486805,  -4.937539,  -7.176718,  -9.240026, -11.157488,\n",
      "       -12.950554, -14.642863, -16.256037, -17.804822, -19.302333,\n",
      "       -20.761062, -22.19159 , -23.604184, -25.008914, -26.41532 ,\n",
      "       -27.832948, -29.271645, -30.741768, -32.254813, -33.823217,\n",
      "       151.502502, 150.046996, 148.554212, 147.012639, 143.72122 ,\n",
      "       141.937114, 140.036437, 137.994412, 135.781719, 133.363787,\n",
      "       130.698834, 127.734993, 124.409617, 120.648148, 116.362591,\n",
      "       111.45242 , 105.812136,  99.344676,  91.987422,  83.754269,\n",
      "        74.753753,  65.363884,  55.992798,  38.781221,  31.382593,\n",
      "        24.867702,  19.184322,  14.238842,   6.143552,   2.802943,\n",
      "        -0.172068,  -2.84529 ,  -5.268556,  -7.485276,  -9.521443,\n",
      "       -11.417597, -13.198984, -14.885255, -16.493607, -18.039069,\n",
      "       -19.534678, -20.992579, -22.423581, -23.837771, -25.245207,\n",
      "       -26.655287, -28.077675, -29.522548, -31.000156, 151.254413,\n",
      "       149.79242 , 135.37617 , 132.924878, 130.220757, 127.211031,\n",
      "       123.832419, 120.009093, 115.651949, 110.659884, 104.926969,\n",
      "        98.33559 ,  90.808004,  82.435203,  73.404088,  64.038533,\n",
      "        54.738957,  45.883614,  30.46686 ,  24.063979,  18.480565,\n",
      "        13.621445,   9.381127,   5.659737,   2.369248,  -0.564745,\n",
      "        -3.200703,  -5.583025,  -7.76885 ,  -9.790908, -11.676552,\n",
      "       -13.449358, -18.274255, -19.767807, -21.22499 , -22.6562  ,\n",
      "       -24.071787, -25.4819  , -26.89586 , -28.323149, -29.77402 ,\n",
      "       -31.262535, -32.798141, 114.947822, 109.840031, 103.949101,\n",
      "        97.205762,  89.577517,  81.132634,  72.072975,  62.728148,\n",
      "        53.492974,  44.73375 ,  36.710149,  29.547749,  23.257141,\n",
      "        17.774585,   8.835773,   5.175134,   1.948136,  -3.522662,\n",
      "        -5.885348,  -8.05439 , -10.062664, -11.937327, -13.701382,\n",
      "       -15.37418 , -16.972369, -18.510682, -20.002118, -21.458423,\n",
      "       -22.889742, -24.30716 ]), array([-3.15705797e-03, -3.13005797e-03, -2.47005797e-03, -1.90905797e-03,\n",
      "       -1.70405797e-03, -2.02505797e-03, -2.54805797e-03, -2.67905797e-03,\n",
      "       -2.99005797e-03, -3.02005797e-03, -3.32305797e-03, -3.74105797e-03,\n",
      "       -3.91805797e-03, -3.89205797e-03, -4.09005797e-03, -4.07405797e-03,\n",
      "       -3.98805797e-03, -4.10405797e-03, -3.81105797e-03, -4.05205797e-03,\n",
      "       -3.97305797e-03, -4.33105797e-03, -4.09805797e-03, -4.20105797e-03,\n",
      "       -3.89205797e-03, -3.90905797e-03, -3.93205797e-03, -3.63405797e-03,\n",
      "       -3.31905797e-03, -3.11605797e-03, -2.30105797e-03,  1.31789420e-02,\n",
      "        3.92649420e-02,  2.32589420e-02,  1.32289420e-02,  7.14194203e-03,\n",
      "        1.01942029e-04, -1.28905797e-03, -1.91205797e-03, -2.16605797e-03,\n",
      "       -2.45305797e-03, -2.34405797e-03, -2.48905797e-03, -2.41305797e-03,\n",
      "       -2.53905797e-03, -2.44605797e-03, -2.13305797e-03, -1.62505797e-03,\n",
      "       -1.35105797e-03, -9.56057971e-04, -8.25057971e-04, -9.60057971e-04,\n",
      "       -1.13305797e-03, -1.27005797e-03, -1.69605797e-03, -1.83105797e-03,\n",
      "       -2.10905797e-03, -2.35605797e-03, -2.53105797e-03, -2.77305797e-03,\n",
      "       -2.89005797e-03, -3.04005797e-03, -3.00105797e-03, -3.27305797e-03,\n",
      "       -3.46605797e-03, -3.16605797e-03, -3.20105797e-03, -3.35705797e-03,\n",
      "       -3.37605797e-03, -3.24705797e-03, -3.30905797e-03, -3.18705797e-03,\n",
      "       -3.28005797e-03, -3.28705797e-03, -3.31305797e-03, -3.11405797e-03,\n",
      "       -3.11005797e-03, -2.99805797e-03, -2.72205797e-03, -2.58305797e-03,\n",
      "       -1.50505797e-03, -1.10905797e-03, -2.89057971e-04,  2.23089420e-02,\n",
      "        1.76127942e-01,  3.82659420e-02,  2.51939420e-02,  1.35119420e-02,\n",
      "        6.13394203e-03, -1.58057971e-04, -1.33205797e-03, -2.08605797e-03,\n",
      "       -2.41505797e-03, -2.39305797e-03, -2.45105797e-03, -2.56805797e-03,\n",
      "       -2.58405797e-03, -2.47505797e-03, -2.32205797e-03, -2.20105797e-03,\n",
      "       -1.63805797e-03, -1.26105797e-03, -7.45057971e-04, -9.29057971e-04,\n",
      "       -1.20605797e-03, -1.16405797e-03, -1.56305797e-03, -1.56805797e-03,\n",
      "       -1.99205797e-03, -2.37105797e-03, -2.54005797e-03, -2.76905797e-03,\n",
      "       -3.03305797e-03, -3.05105797e-03, -3.17405797e-03, -3.35605797e-03,\n",
      "       -3.17605797e-03, -3.03905797e-03, -3.20405797e-03, -3.36005797e-03,\n",
      "       -3.24705797e-03, -3.25805797e-03, -3.33805797e-03, -3.19405797e-03,\n",
      "       -3.14805797e-03, -3.14005797e-03, -3.20805797e-03, -3.18205797e-03,\n",
      "       -3.08105797e-03, -3.03105797e-03, -2.61705797e-03, -2.25005797e-03,\n",
      "       -1.34105797e-03,  3.12942029e-04,  3.88679420e-02,  2.53479420e-02,\n",
      "       -2.40605797e-03, -2.46205797e-03, -2.52905797e-03, -2.61705797e-03,\n",
      "       -2.62805797e-03, -2.29805797e-03, -1.91405797e-03, -1.79705797e-03,\n",
      "       -1.19805797e-03, -9.65057971e-04, -8.61057971e-04, -1.19505797e-03,\n",
      "       -1.29105797e-03, -1.65905797e-03, -1.76005797e-03, -1.90705797e-03,\n",
      "       -2.53505797e-03, -2.57705797e-03, -2.93505797e-03, -3.01105797e-03,\n",
      "       -2.95205797e-03, -3.28605797e-03, -3.37405797e-03, -3.21605797e-03,\n",
      "       -3.01605797e-03, -3.29405797e-03, -3.36205797e-03, -3.55205797e-03,\n",
      "       -3.22605797e-03, -3.21805797e-03, -3.01105797e-03, -3.20005797e-03,\n",
      "       -2.97305797e-03, -3.18005797e-03, -3.00505797e-03, -2.97105797e-03,\n",
      "       -2.97805797e-03, -2.41605797e-03, -1.39905797e-03,  6.47942029e-04,\n",
      "        5.25849420e-02, -2.15705797e-03, -1.81405797e-03, -1.34105797e-03,\n",
      "       -1.08305797e-03, -8.76057971e-04, -1.08705797e-03, -1.32005797e-03,\n",
      "       -1.67605797e-03, -1.83405797e-03, -1.94205797e-03, -2.24605797e-03,\n",
      "       -2.46805797e-03, -2.83905797e-03, -2.93405797e-03, -3.07505797e-03,\n",
      "       -3.21205797e-03, -3.01905797e-03, -3.19005797e-03, -3.27105797e-03,\n",
      "       -3.28605797e-03, -3.24705797e-03, -3.18805797e-03, -2.98505797e-03,\n",
      "       -3.31905797e-03, -3.38405797e-03, -3.10105797e-03, -3.05005797e-03,\n",
      "       -3.19605797e-03, -3.07405797e-03, -3.16805797e-03]), array([0., 0., 0., 0., 0., 0., 0., 0., 0., 0., 0., 0., 0., 0., 0., 0., 0.,\n",
      "       0., 0., 0., 0., 0., 0., 0., 0., 0., 0., 0., 0., 0., 0., 0., 0., 0.,\n",
      "       0., 0., 0., 0., 0., 0., 0., 0., 0., 0., 0., 0., 0., 0., 0., 0., 0.,\n",
      "       0., 0., 0., 0., 0., 0., 0., 0., 0., 0., 0., 0., 0., 0., 0., 0., 0.,\n",
      "       0., 0., 0., 0., 0., 0., 0., 0., 0., 0., 0., 0., 0., 0., 0., 0., 0.,\n",
      "       0., 0., 0., 0., 0., 0., 0., 0., 0., 0., 0., 0., 0., 0., 0., 0., 0.,\n",
      "       0., 0., 0., 0., 0., 0., 0., 0., 0., 0., 0., 0., 0., 0., 0., 0., 0.,\n",
      "       0., 0., 0., 0., 0., 0., 0., 0., 0., 0., 0., 0., 0., 0., 0., 0., 0.,\n",
      "       0., 0., 0., 0., 0., 0., 0., 0., 0., 0., 0., 0., 0., 0., 0., 0., 0.,\n",
      "       0., 0., 0., 0., 0., 0., 0., 0., 0., 0., 0., 0., 0., 0., 0., 0., 0.,\n",
      "       0., 0., 0., 0., 0., 0., 0., 0., 0., 0., 0., 0., 0., 0., 0., 0., 0.,\n",
      "       0., 0., 0., 0., 0., 0., 0., 0., 0., 0., 0., 0., 0., 0., 0., 0., 0.,\n",
      "       0., 0., 0.]), array([0., 0., 0., 0., 0., 0., 0., 0., 0., 0., 0., 0., 0., 0., 0., 0., 0.,\n",
      "       0., 0., 0., 0., 0., 0., 0., 0., 0., 0., 0., 0., 0., 0., 0., 0., 0.,\n",
      "       0., 0., 0., 0., 0., 0., 0., 0., 0., 0., 0., 0., 0., 0., 0., 0., 0.,\n",
      "       0., 0., 0., 0., 0., 0., 0., 0., 0., 0., 0., 0., 0., 0., 0., 0., 0.,\n",
      "       0., 0., 0., 0., 0., 0., 0., 0., 0., 0., 0., 0., 0., 0., 0., 0., 0.,\n",
      "       0., 0., 0., 0., 0., 0., 0., 0., 0., 0., 0., 0., 0., 0., 0., 0., 0.,\n",
      "       0., 0., 0., 0., 0., 0., 0., 0., 0., 0., 0., 0., 0., 0., 0., 0., 0.,\n",
      "       0., 0., 0., 0., 0., 0., 0., 0., 0., 0., 0., 0., 0., 0., 0., 0., 0.,\n",
      "       0., 0., 0., 0., 0., 0., 0., 0., 0., 0., 0., 0., 0., 0., 0., 0., 0.,\n",
      "       0., 0., 0., 0., 0., 0., 0., 0., 0., 0., 0., 0., 0., 0., 0., 0., 0.,\n",
      "       0., 0., 0., 0., 0., 0., 0., 0., 0., 0., 0., 0., 0., 0., 0., 0., 0.,\n",
      "       0., 0., 0., 0., 0., 0., 0., 0., 0., 0., 0., 0., 0., 0., 0., 0., 0.,\n",
      "       0., 0., 0.]), 1, 0, [(array([  0,   1,   2,   3,   4,   5,   6,   7,   8,   9,  10,  11,  12,\n",
      "        13,  14,  15,  16,  17,  18,  19,  20,  21,  22,  23,  24,  25,\n",
      "        26,  27,  28,  29,  30,  31,  32,  33,  34,  35,  36,  37,  38,\n",
      "        39,  40,  41,  42,  43,  44,  45,  46,  47,  48,  49,  50,  51,\n",
      "        52,  53,  54,  55,  56,  57,  58,  59,  60,  61,  62,  63,  64,\n",
      "        65,  66,  67,  68,  69,  70,  71,  72,  73,  74,  75,  76,  77,\n",
      "        78,  79,  80,  81,  82,  83,  84,  85,  86,  87,  88,  89,  90,\n",
      "        91,  92,  93,  94,  95,  96,  97,  98,  99, 100, 101, 102, 103,\n",
      "       104, 105, 106, 107, 108, 109, 110, 111, 112, 113, 114, 115, 116,\n",
      "       117, 118, 119, 120, 121, 122, 123, 124, 125, 126, 127, 128, 129,\n",
      "       130, 131, 132, 133, 134, 135, 136, 137, 138, 139, 140, 141, 142,\n",
      "       143, 144, 145, 146, 147, 148, 149, 150, 151, 152, 153, 154, 155,\n",
      "       156, 157, 158, 159, 160, 161, 162, 163, 164, 165, 166, 167, 168,\n",
      "       169, 170, 171, 172, 173, 174, 175, 176, 177, 178, 179, 180, 181,\n",
      "       182, 183, 184, 185, 186, 187, 188, 189, 190, 191, 192, 193, 194,\n",
      "       195, 196, 197, 198, 199, 200, 201, 202, 203, 204, 205, 206]),)], ['CH'], 1, array(['CH'], dtype='<U2'), 0, 1, 0.1246, array(0), [0.128], [0.000128], array([1]), [1], 1, array([1., 1., 1., 1., 1., 1., 1., 1., 1., 1., 1., 1., 1., 1., 1., 1., 1.,\n",
      "       1., 1., 1., 1., 1., 1., 1., 1., 1., 1., 1., 1., 1., 1., 1., 1., 1.,\n",
      "       1., 1., 1., 1., 1., 1., 1., 1., 1., 1., 1., 1., 1., 1., 1., 1., 1.,\n",
      "       1., 1., 1., 1., 1., 1., 1., 1., 1., 1., 1., 1., 1., 1., 1., 1., 1.,\n",
      "       1., 1., 1., 1., 1., 1., 1., 1., 1., 1., 1., 1., 1., 1., 1., 1., 1.,\n",
      "       1., 1., 1., 1., 1., 1., 1., 1., 1., 1., 1., 1., 1., 1., 1., 1., 1.,\n",
      "       1., 1., 1., 1., 1., 1., 1., 1., 1., 1., 1., 1., 1., 1., 1., 1., 1.,\n",
      "       1., 1., 1., 1., 1., 1., 1., 1., 1., 1., 1., 1., 1., 1., 1., 1., 1.,\n",
      "       1., 1., 1., 1., 1., 1., 1., 1., 1., 1., 1., 1., 1., 1., 1., 1., 1.,\n",
      "       1., 1., 1., 1., 1., 1., 1., 1., 1., 1., 1., 1., 1., 1., 1., 1., 1.,\n",
      "       1., 1., 1., 1., 1., 1., 1., 1., 1., 1., 1., 1., 1., 1., 1., 1., 1.,\n",
      "       1., 1., 1., 1., 1., 1., 1., 1., 1., 1., 1., 1., 1., 1., 1., 1., 1.,\n",
      "       1., 1., 1.]), 'n', 'n', 'n', [], [], array([[0., 0.]]), ['w12_lc01.dat'], [], array([0.000647, 0.000647, 0.000646, 0.000647, 0.000647, 0.000647,\n",
      "       0.000647, 0.000647, 0.000647, 0.000646, 0.000647, 0.000647,\n",
      "       0.000647, 0.000647, 0.000646, 0.000647, 0.000647, 0.000646,\n",
      "       0.000646, 0.000646, 0.000647, 0.000647, 0.000646, 0.000647,\n",
      "       0.000647, 0.000647, 0.000647, 0.000647, 0.000647, 0.000647,\n",
      "       0.000647, 0.000652, 0.000659, 0.000654, 0.000651, 0.00065 ,\n",
      "       0.000647, 0.000647, 0.000647, 0.000647, 0.000647, 0.000647,\n",
      "       0.000646, 0.000646, 0.000646, 0.000646, 0.000647, 0.000647,\n",
      "       0.000647, 0.000647, 0.000647, 0.000647, 0.000647, 0.000647,\n",
      "       0.000647, 0.000647, 0.000647, 0.000646, 0.000646, 0.000647,\n",
      "       0.000647, 0.000646, 0.000647, 0.000647, 0.000647, 0.000647,\n",
      "       0.000647, 0.000647, 0.000647, 0.000647, 0.000647, 0.000647,\n",
      "       0.000647, 0.000646, 0.000647, 0.000647, 0.000647, 0.000647,\n",
      "       0.000647, 0.000647, 0.000647, 0.000648, 0.000648, 0.000654,\n",
      "       0.000697, 0.000659, 0.000655, 0.000652, 0.000649, 0.000647,\n",
      "       0.000647, 0.000647, 0.000647, 0.000646, 0.000647, 0.000646,\n",
      "       0.000647, 0.000646, 0.000647, 0.000646, 0.000647, 0.000647,\n",
      "       0.000647, 0.000647, 0.000647, 0.000646, 0.000647, 0.000646,\n",
      "       0.000647, 0.000646, 0.000646, 0.000646, 0.000646, 0.000646,\n",
      "       0.000646, 0.000646, 0.000647, 0.000646, 0.000647, 0.000646,\n",
      "       0.000647, 0.000647, 0.000646, 0.000647, 0.000646, 0.000646,\n",
      "       0.000646, 0.000647, 0.000647, 0.000647, 0.000647, 0.000647,\n",
      "       0.000647, 0.000647, 0.000659, 0.000655, 0.000646, 0.000647,\n",
      "       0.000646, 0.000647, 0.000646, 0.000646, 0.000647, 0.000646,\n",
      "       0.000647, 0.000647, 0.000647, 0.000647, 0.000647, 0.000647,\n",
      "       0.000647, 0.000647, 0.000647, 0.000647, 0.000647, 0.000646,\n",
      "       0.000647, 0.000647, 0.000647, 0.000646, 0.000647, 0.000647,\n",
      "       0.000646, 0.000646, 0.000647, 0.000647, 0.000647, 0.000647,\n",
      "       0.000647, 0.000647, 0.000647, 0.000647, 0.000647, 0.000647,\n",
      "       0.000648, 0.000648, 0.000663, 0.000647, 0.000647, 0.000647,\n",
      "       0.000647, 0.000647, 0.000647, 0.000647, 0.000647, 0.000647,\n",
      "       0.000647, 0.000647, 0.000647, 0.000647, 0.000647, 0.000647,\n",
      "       0.000647, 0.000647, 0.000647, 0.000647, 0.000646, 0.000647,\n",
      "       0.000647, 0.000647, 0.000646, 0.000647, 0.000647, 0.000647,\n",
      "       0.000647, 0.000647, 0.000647]), 'n', array([], dtype=float64), [], array([6.30545551e+03, 1.24600000e-01, 3.39000000e-01, 1.24830000e-01,\n",
      "       1.09141943e+00, 0.00000000e+00, 0.00000000e+00, 0.00000000e+00,\n",
      "       5.00000000e-04, 0.00000000e+00, 0.00000000e+00, 0.00000000e+00,\n",
      "       0.00000000e+00, 1.00000000e+00, 0.00000000e+00, 0.00000000e+00,\n",
      "       0.00000000e+00, 0.00000000e+00, 0.00000000e+00, 0.00000000e+00,\n",
      "       0.00000000e+00, 0.00000000e+00, 0.00000000e+00, 0.00000000e+00,\n",
      "       0.00000000e+00, 0.00000000e+00, 0.00000000e+00, 0.00000000e+00,\n",
      "       0.00000000e+00, 0.00000000e+00, 0.00000000e+00, 0.00000000e+00,\n",
      "       0.00000000e+00]), ['y'], ['n'], [<CONAN3.gpnew.GPnew object at 0x7f3a35b1dbe0>], array([-19.80697511, -13.633189  ,   6.89669433]), array([0., 0., 0.]), [[0, 1, 2, 3, 4, 5, 6, 7, 8]], (array([ 0,  8,  9, 10, 13, 14, 33, 34, 35]),), array(['T_0', 'RpRs', 'b', 'dur_[d]', 'Period_[d]', 'esin(w)', 'ecos(w)',\n",
      "       'K', 'CH_DFocc', 'CH_c1', 'CH_c2', 'CH_c3', 'CH_c4',\n",
      "       'w12_lc01.dat_A0', 'w12_lc01.dat_A1', 'w12_lc01.dat_A2',\n",
      "       'w12_lc01.dat_A3', 'w12_lc01.dat_A4', 'w12_lc01.dat_B1',\n",
      "       'w12_lc01.dat_B2', 'w12_lc01.dat_C11', 'w12_lc01.dat_C12',\n",
      "       'w12_lc01.dat_C21', 'w12_lc01.dat_C22', 'w12_lc01.dat_D1',\n",
      "       'w12_lc01.dat_D2', 'w12_lc01.dat_E1', 'w12_lc01.dat_E2',\n",
      "       'w12_lc01.dat_G1', 'w12_lc01.dat_G2', 'w12_lc01.dat_G3',\n",
      "       'w12_lc01.dat_H1', 'w12_lc01.dat_H2'], dtype='<U16'), [array([ 0,  8,  9, 10, 13, 14, 33, 34, 35])], array([  0. ,   0. ,   0. ,   0. ,   0. ,   0. ,   0. , -15.2,   6.9]), array([0., 0., 0., 0., 0., 0., 0., 0., 0.]), array([ 0.0e+00, -5.0e-04, -3.0e+00, -3.0e+00,  0.0e+00, -1.0e+07,\n",
      "       -2.1e+01, -2.5e+01, -1.0e+01]), array([ 1.0e+04, -5.0e-04,  3.0e+00,  3.0e+00,  2.1e+00,  1.0e+07,\n",
      "       -5.2e+00, -5.0e+00,  1.5e+01]), [array([[ 9.15553493e+03,  2.27096600e+00, -9.60815000e-01, ...,\n",
      "         1.10770000e-02, -3.15705797e-03,  6.00000000e+01],\n",
      "       [ 9.15553562e+03,  1.97985800e+00, -1.03448500e+00, ...,\n",
      "         1.11190000e-02, -3.13005797e-03,  6.00000000e+01],\n",
      "       [ 9.15553632e+03,  1.95163000e+00, -6.74744000e-01, ...,\n",
      "         1.09820000e-02, -2.47005797e-03,  6.00000000e+01],\n",
      "       ...,\n",
      "       [ 9.15583023e+03,  9.88770000e-01, -1.83990500e+00, ...,\n",
      "         1.15180000e-02, -3.19605797e-03,  6.00000000e+01],\n",
      "       [ 9.15583092e+03,  1.27471900e+00, -2.20788600e+00, ...,\n",
      "         1.14590000e-02, -3.07405797e-03,  6.00000000e+01],\n",
      "       [ 9.15583162e+03,  1.10272200e+00, -2.36328100e+00, ...,\n",
      "         1.14220000e-02, -3.16805797e-03,  6.00000000e+01]])], (array([ 0,  8,  9, 10, 13, 14]),), ['y'], 'y', (array([0, 1, 2]),), array([0.1  , 0.001, 0.001])]\n"
     ]
    },
    {
     "ename": "ValueError",
     "evalue": "not enough values to unpack (expected 4, got 2)",
     "output_type": "error",
     "traceback": [
      "\u001b[0;31m---------------------------------------------------------------------------\u001b[0m",
      "\u001b[0;31mValueError\u001b[0m                                Traceback (most recent call last)",
      "\u001b[0;32m<ipython-input-30-6f49203bbb68>\u001b[0m in \u001b[0;36m<module>\u001b[0;34m\u001b[0m\n\u001b[0;32m----> 1\u001b[0;31m \u001b[0mCONAN3\u001b[0m\u001b[0;34m.\u001b[0m\u001b[0mfit_data\u001b[0m\u001b[0;34m(\u001b[0m\u001b[0mlc_data\u001b[0m\u001b[0;34m,\u001b[0m \u001b[0;32mNone\u001b[0m\u001b[0;34m,\u001b[0m \u001b[0mfitter\u001b[0m\u001b[0;34m)\u001b[0m\u001b[0;34m\u001b[0m\u001b[0;34m\u001b[0m\u001b[0m\n\u001b[0m",
      "\u001b[0;32m~/Dropbox/postdoc/work/CONAN3/CONAN3/fit_data.py\u001b[0m in \u001b[0;36mfit_data\u001b[0;34m(lc, rv, conf)\u001b[0m\n\u001b[1;32m    947\u001b[0m     \u001b[0mprint\u001b[0m\u001b[0;34m(\u001b[0m\u001b[0minitial\u001b[0m\u001b[0;34m[\u001b[0m\u001b[0mjumping\u001b[0m\u001b[0;34m]\u001b[0m\u001b[0;34m)\u001b[0m\u001b[0;34m\u001b[0m\u001b[0;34m\u001b[0m\u001b[0m\n\u001b[1;32m    948\u001b[0m     \u001b[0mprint\u001b[0m\u001b[0;34m(\u001b[0m\u001b[0mindparams\u001b[0m\u001b[0;34m)\u001b[0m\u001b[0;34m\u001b[0m\u001b[0;34m\u001b[0m\u001b[0m\n\u001b[0;32m--> 949\u001b[0;31m     \u001b[0mmval\u001b[0m\u001b[0;34m,\u001b[0m \u001b[0mmerr\u001b[0m\u001b[0;34m,\u001b[0m\u001b[0mdump1\u001b[0m\u001b[0;34m,\u001b[0m\u001b[0mdump2\u001b[0m \u001b[0;34m=\u001b[0m \u001b[0mlogprob_multi\u001b[0m\u001b[0;34m(\u001b[0m\u001b[0minitial\u001b[0m\u001b[0;34m[\u001b[0m\u001b[0mjumping\u001b[0m\u001b[0;34m]\u001b[0m\u001b[0;34m,\u001b[0m\u001b[0;34m*\u001b[0m\u001b[0mindparams\u001b[0m\u001b[0;34m)\u001b[0m\u001b[0;34m\u001b[0m\u001b[0;34m\u001b[0m\u001b[0m\n\u001b[0m\u001b[1;32m    950\u001b[0m     \u001b[0mmcmc_plots\u001b[0m\u001b[0;34m(\u001b[0m\u001b[0mmval\u001b[0m\u001b[0;34m,\u001b[0m\u001b[0mtarr\u001b[0m\u001b[0;34m,\u001b[0m\u001b[0mfarr\u001b[0m\u001b[0;34m,\u001b[0m\u001b[0mearr\u001b[0m\u001b[0;34m,\u001b[0m\u001b[0mxarr\u001b[0m\u001b[0;34m,\u001b[0m\u001b[0myarr\u001b[0m\u001b[0;34m,\u001b[0m\u001b[0mwarr\u001b[0m\u001b[0;34m,\u001b[0m\u001b[0maarr\u001b[0m\u001b[0;34m,\u001b[0m\u001b[0msarr\u001b[0m\u001b[0;34m,\u001b[0m\u001b[0mbarr\u001b[0m\u001b[0;34m,\u001b[0m\u001b[0mcarr\u001b[0m\u001b[0;34m,\u001b[0m\u001b[0mlind\u001b[0m\u001b[0;34m,\u001b[0m \u001b[0mnphot\u001b[0m\u001b[0;34m,\u001b[0m \u001b[0mnRV\u001b[0m\u001b[0;34m,\u001b[0m \u001b[0mindlist\u001b[0m\u001b[0;34m,\u001b[0m \u001b[0mfilters\u001b[0m\u001b[0;34m,\u001b[0m \u001b[0mnames\u001b[0m\u001b[0;34m,\u001b[0m \u001b[0mRVnames\u001b[0m\u001b[0;34m,\u001b[0m \u001b[0;34m'init_'\u001b[0m\u001b[0;34m,\u001b[0m\u001b[0minitial\u001b[0m\u001b[0;34m,\u001b[0m\u001b[0mT0_in\u001b[0m\u001b[0;34m[\u001b[0m\u001b[0;36m0\u001b[0m\u001b[0;34m]\u001b[0m\u001b[0;34m,\u001b[0m\u001b[0mper_in\u001b[0m\u001b[0;34m[\u001b[0m\u001b[0;36m0\u001b[0m\u001b[0;34m]\u001b[0m\u001b[0;34m)\u001b[0m\u001b[0;34m\u001b[0m\u001b[0;34m\u001b[0m\u001b[0m\n\u001b[1;32m    951\u001b[0m \u001b[0;34m\u001b[0m\u001b[0m\n",
      "\u001b[0;31mValueError\u001b[0m: not enough values to unpack (expected 4, got 2)"
     ]
    }
   ],
   "source": [
    "CONAN3.fit_data(lc_data, None, fitter)"
   ]
  },
  {
   "cell_type": "code",
   "execution_count": 31,
   "metadata": {},
   "outputs": [
    {
     "data": {
      "text/plain": [
       "[[1, 0, 0, 0, 0, 0, 0, 0]]"
      ]
     },
     "execution_count": 31,
     "metadata": {},
     "output_type": "execute_result"
    }
   ],
   "source": []
  },
  {
   "cell_type": "code",
   "execution_count": 32,
   "metadata": {},
   "outputs": [
    {
     "data": {
      "text/plain": [
       "[1]"
      ]
     },
     "execution_count": 32,
     "metadata": {},
     "output_type": "execute_result"
    }
   ],
   "source": [
    "lc_data._groups"
   ]
  },
  {
   "cell_type": "code",
   "execution_count": 33,
   "metadata": {},
   "outputs": [
    {
     "data": {
      "text/plain": [
       "[0]"
      ]
     },
     "execution_count": 33,
     "metadata": {},
     "output_type": "execute_result"
    }
   ],
   "source": [
    "lc_data._grbases"
   ]
  },
  {
   "cell_type": "code",
   "execution_count": null,
   "metadata": {},
   "outputs": [],
   "source": []
  }
 ],
 "metadata": {
  "kernelspec": {
   "display_name": "Python 3.6.8 64-bit ('python3_env': conda)",
   "language": "python",
   "name": "python36864bitpython3envconda0805a587952448649f338ec1a54880d9"
  },
  "language_info": {
   "codemirror_mode": {
    "name": "ipython",
    "version": 3
   },
   "file_extension": ".py",
   "mimetype": "text/x-python",
   "name": "python",
   "nbconvert_exporter": "python",
   "pygments_lexer": "ipython3",
   "version": "3.6.12"
  }
 },
 "nbformat": 4,
 "nbformat_minor": 2
}
